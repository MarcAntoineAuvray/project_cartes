{
 "cells": [
  {
   "cell_type": "code",
   "execution_count": 2,
   "id": "d657522f",
   "metadata": {},
   "outputs": [
    {
     "name": "stdout",
     "output_type": "stream",
     "text": [
      "   col1  col2\n",
      "0     0     2\n",
      "1     1     3\n",
      "   col1  col2\n",
      "0     0     2\n",
      "1     1     3\n",
      "   col1  col2\n",
      "0     0     2\n",
      "1     1     3\n",
      "   col1  col2\n",
      "0     0     2\n",
      "1     1     3\n",
      "   col1  col2\n",
      "0     0     2\n",
      "1     1     3\n",
      "   col1  col2\n",
      "0     0     2\n",
      "1     1     3\n",
      "True True True True True\n"
     ]
    }
   ],
   "source": [
    "import pandas as pd\n",
    "import numpy as np\n",
    "from dataclasses import make_dataclass\n",
    "\n",
    "df1=pd.DataFrame(data={'col1': [0, 1], \n",
    "                       'col2': [2, 3]})\n",
    "\n",
    "df2=pd.DataFrame(data={'col1': [0, 1], \n",
    "                       'col2': pd.Series([2, 3], \n",
    "                                         index=[0,1])}, \n",
    "                 index=[0, 1])\n",
    "\n",
    "df3 = pd.DataFrame(data=np.array([[0,2], [1,3]]), \n",
    "                   columns=[\"col1\", \"col2\"],\n",
    "                   dtype=\"int64\")\n",
    "\n",
    "df4 = pd.DataFrame(np.array([(0,2,4), (1,3,5)],\n",
    "                            dtype=[(\"col1\", \"int64\"), \n",
    "                                   (\"col2\", \"int64\"), \n",
    "                                   (\"col3\", \"i4\")]),\n",
    "                   columns=['col1', 'col2'])\n",
    "\n",
    "point_df5 =  make_dataclass(\"Point\", \n",
    "                            fields=[(\"col1\", int), \n",
    "                                    (\"col2\", int)])\n",
    "df5 = pd.DataFrame(data=[point_df5(0, 2), \n",
    "                         point_df5(1, 3)])\n",
    "\n",
    "df6 = pd.DataFrame(data=np.array([[0,1], [2,3]]).transpose(), \n",
    "                   columns=[\"col1\", \"col2\"],\n",
    "                   dtype=\"int64\")\n",
    "\n",
    "print(df1)\n",
    "print(df2)\n",
    "print(df3)\n",
    "print(df4)\n",
    "print(df5)\n",
    "print(df6)\n",
    "\n",
    "print(df1.equals(df2),\n",
    "      df1.equals(df3),\n",
    "      df1.equals(df4),\n",
    "      df1.equals(df5),\n",
    "      df1.equals(df6))"
   ]
  },
  {
   "cell_type": "code",
   "execution_count": 35,
   "id": "be652f9c",
   "metadata": {},
   "outputs": [
    {
     "data": {
      "text/plain": [
       "list"
      ]
     },
     "execution_count": 35,
     "metadata": {},
     "output_type": "execute_result"
    }
   ],
   "source": [
    "type([point_df5(0, 2), point_df5(1, 3)])"
   ]
  },
  {
   "cell_type": "code",
   "execution_count": 26,
   "id": "21da1c1e",
   "metadata": {},
   "outputs": [
    {
     "name": "stdout",
     "output_type": "stream",
     "text": [
      "2 2\n",
      "2 2\n",
      "(2, 2)\n",
      "(2,)\n",
      "2\n",
      "(2, 2)\n"
     ]
    }
   ],
   "source": [
    "print(len({'col1': [0, 1], 'col2': [2, 3]}.keys()),\n",
    "      len({'col1': [0, 1], 'col2': [2, 3]}.values()))\n",
    "\n",
    "print(len({'col1': [0, 1],'col2': pd.Series([2, 3],index=[0,1])}.keys()),\n",
    "      len({'col1': [0, 1],'col2': pd.Series([2, 3],index=[0,1])}.values()))\n",
    "\n",
    "print(np.array([[0,2], [1,3]]).shape)\n",
    "\n",
    "print(np.array([(0,2,4), (1,3,5)],\n",
    "               dtype=[(\"col1\", \"int64\"), \n",
    "                      (\"col2\", \"int64\"), \n",
    "                      (\"col3\", \"i4\")]).shape) \n",
    "# il faudrait utiliser la fonction reshape pour avoir une shape plus jolie\n",
    "\n",
    "point_df5 =  make_dataclass(\"Point\", \n",
    "                            fields=[(\"col1\", int), \n",
    "                                    (\"col2\", int)])\n",
    "print(len([point_df5(0, 2), point_df5(1, 3)]))\n",
    "\n",
    "\n",
    "print(np.array([[0,1], [2,3]]).transpose().shape)"
   ]
  },
  {
   "cell_type": "code",
   "execution_count": 121,
   "id": "d0c9b62b",
   "metadata": {},
   "outputs": [
    {
     "name": "stdout",
     "output_type": "stream",
     "text": [
      "0    0\n",
      "1    1\n",
      "2    2\n",
      "3    3\n",
      "dtype: int64\n",
      "True True\n"
     ]
    }
   ],
   "source": [
    "list_1=[0,1,2,3]\n",
    "list_2=list([0,1,2,3])\n",
    "array=np.array([0,1,2,3], \n",
    "               dtype=\"int64\")\n",
    "\n",
    "print(pd.Series(list_1))\n",
    "\n",
    "print(pd.Series(data=list_1).equals(pd.Series(data=list_2)),\n",
    "      pd.Series(data=list_1).equals(pd.Series(data=array)))"
   ]
  },
  {
   "cell_type": "code",
   "execution_count": 128,
   "id": "baf01d7c",
   "metadata": {},
   "outputs": [],
   "source": [
    "df1=pd.DataFrame(data={'col1': [0, 1], \n",
    "                       'col2': [2, 3]})\n",
    "\n",
    "df7=pd.DataFrame(data={'col1': [5, 6], \n",
    "                       'col2': [7, 8]})"
   ]
  },
  {
   "cell_type": "code",
   "execution_count": 129,
   "id": "fcb167e0",
   "metadata": {},
   "outputs": [
    {
     "data": {
      "text/html": [
       "<div>\n",
       "<style scoped>\n",
       "    .dataframe tbody tr th:only-of-type {\n",
       "        vertical-align: middle;\n",
       "    }\n",
       "\n",
       "    .dataframe tbody tr th {\n",
       "        vertical-align: top;\n",
       "    }\n",
       "\n",
       "    .dataframe thead th {\n",
       "        text-align: right;\n",
       "    }\n",
       "</style>\n",
       "<table border=\"1\" class=\"dataframe\">\n",
       "  <thead>\n",
       "    <tr style=\"text-align: right;\">\n",
       "      <th></th>\n",
       "      <th>col1</th>\n",
       "      <th>col2</th>\n",
       "      <th>col1</th>\n",
       "      <th>col2</th>\n",
       "    </tr>\n",
       "  </thead>\n",
       "  <tbody>\n",
       "    <tr>\n",
       "      <th>0</th>\n",
       "      <td>0</td>\n",
       "      <td>2</td>\n",
       "      <td>5</td>\n",
       "      <td>7</td>\n",
       "    </tr>\n",
       "    <tr>\n",
       "      <th>1</th>\n",
       "      <td>1</td>\n",
       "      <td>3</td>\n",
       "      <td>6</td>\n",
       "      <td>8</td>\n",
       "    </tr>\n",
       "  </tbody>\n",
       "</table>\n",
       "</div>"
      ],
      "text/plain": [
       "   col1  col2  col1  col2\n",
       "0     0     2     5     7\n",
       "1     1     3     6     8"
      ]
     },
     "execution_count": 129,
     "metadata": {},
     "output_type": "execute_result"
    }
   ],
   "source": [
    "pd.concat([df1,df7], axis=1)"
   ]
  },
  {
   "cell_type": "code",
   "execution_count": 130,
   "id": "52587594",
   "metadata": {},
   "outputs": [
    {
     "data": {
      "text/html": [
       "<div>\n",
       "<style scoped>\n",
       "    .dataframe tbody tr th:only-of-type {\n",
       "        vertical-align: middle;\n",
       "    }\n",
       "\n",
       "    .dataframe tbody tr th {\n",
       "        vertical-align: top;\n",
       "    }\n",
       "\n",
       "    .dataframe thead th {\n",
       "        text-align: right;\n",
       "    }\n",
       "</style>\n",
       "<table border=\"1\" class=\"dataframe\">\n",
       "  <thead>\n",
       "    <tr style=\"text-align: right;\">\n",
       "      <th></th>\n",
       "      <th>col1</th>\n",
       "      <th>col2</th>\n",
       "    </tr>\n",
       "  </thead>\n",
       "  <tbody>\n",
       "    <tr>\n",
       "      <th>0</th>\n",
       "      <td>0</td>\n",
       "      <td>2</td>\n",
       "    </tr>\n",
       "    <tr>\n",
       "      <th>1</th>\n",
       "      <td>1</td>\n",
       "      <td>3</td>\n",
       "    </tr>\n",
       "    <tr>\n",
       "      <th>0</th>\n",
       "      <td>5</td>\n",
       "      <td>7</td>\n",
       "    </tr>\n",
       "    <tr>\n",
       "      <th>1</th>\n",
       "      <td>6</td>\n",
       "      <td>8</td>\n",
       "    </tr>\n",
       "  </tbody>\n",
       "</table>\n",
       "</div>"
      ],
      "text/plain": [
       "   col1  col2\n",
       "0     0     2\n",
       "1     1     3\n",
       "0     5     7\n",
       "1     6     8"
      ]
     },
     "execution_count": 130,
     "metadata": {},
     "output_type": "execute_result"
    }
   ],
   "source": [
    "pd.concat([df1,df7], axis=0)"
   ]
  },
  {
   "cell_type": "code",
   "execution_count": 133,
   "id": "f985aee8",
   "metadata": {},
   "outputs": [],
   "source": [
    "Series_1 = pd.Series([0,1,2,3])\n",
    "Series_2 = pd.Series([5,6,7])"
   ]
  },
  {
   "cell_type": "code",
   "execution_count": 134,
   "id": "dd41ead7",
   "metadata": {},
   "outputs": [
    {
     "data": {
      "text/plain": [
       "0    0\n",
       "1    1\n",
       "2    2\n",
       "3    3\n",
       "0    5\n",
       "1    6\n",
       "2    7\n",
       "dtype: int64"
      ]
     },
     "execution_count": 134,
     "metadata": {},
     "output_type": "execute_result"
    }
   ],
   "source": [
    "pd.concat([Series_1,Series_2], axis=0)"
   ]
  },
  {
   "cell_type": "code",
   "execution_count": 135,
   "id": "ca85faa8",
   "metadata": {},
   "outputs": [
    {
     "data": {
      "text/html": [
       "<div>\n",
       "<style scoped>\n",
       "    .dataframe tbody tr th:only-of-type {\n",
       "        vertical-align: middle;\n",
       "    }\n",
       "\n",
       "    .dataframe tbody tr th {\n",
       "        vertical-align: top;\n",
       "    }\n",
       "\n",
       "    .dataframe thead th {\n",
       "        text-align: right;\n",
       "    }\n",
       "</style>\n",
       "<table border=\"1\" class=\"dataframe\">\n",
       "  <thead>\n",
       "    <tr style=\"text-align: right;\">\n",
       "      <th></th>\n",
       "      <th>0</th>\n",
       "      <th>1</th>\n",
       "    </tr>\n",
       "  </thead>\n",
       "  <tbody>\n",
       "    <tr>\n",
       "      <th>0</th>\n",
       "      <td>0</td>\n",
       "      <td>5.0</td>\n",
       "    </tr>\n",
       "    <tr>\n",
       "      <th>1</th>\n",
       "      <td>1</td>\n",
       "      <td>6.0</td>\n",
       "    </tr>\n",
       "    <tr>\n",
       "      <th>2</th>\n",
       "      <td>2</td>\n",
       "      <td>7.0</td>\n",
       "    </tr>\n",
       "    <tr>\n",
       "      <th>3</th>\n",
       "      <td>3</td>\n",
       "      <td>NaN</td>\n",
       "    </tr>\n",
       "  </tbody>\n",
       "</table>\n",
       "</div>"
      ],
      "text/plain": [
       "   0    1\n",
       "0  0  5.0\n",
       "1  1  6.0\n",
       "2  2  7.0\n",
       "3  3  NaN"
      ]
     },
     "execution_count": 135,
     "metadata": {},
     "output_type": "execute_result"
    }
   ],
   "source": [
    "pd.concat([Series_1,Series_2], axis=1)"
   ]
  },
  {
   "cell_type": "code",
   "execution_count": 186,
   "id": "8076a51d",
   "metadata": {},
   "outputs": [
    {
     "name": "stdout",
     "output_type": "stream",
     "text": [
      "<class 'pandas.core.frame.DataFrame'>\n",
      "<class 'pandas.core.series.Series'>\n",
      "(1064, 1)\n",
      "(1064,)\n"
     ]
    },
    {
     "data": {
      "image/png": "[encoded data removed]",
      "text/plain": [
       "<Figure size 432x288 with 1 Axes>"
      ]
     },
     "metadata": {
      "needs_background": "light"
     },
     "output_type": "display_data"
    }
   ],
   "source": [
    "# 1 recuperation des donnees\n",
    "df_insurance = pd.read_csv('https://raw.githubusercontent.com/datagy/data/main/insurance.csv')\n",
    "df_nonsmokers = df_insurance[df_insurance['smoker'] == 'no']\n",
    "\n",
    "X = df_nonsmokers[['age']]\n",
    "y = df_nonsmokers['charges']\n",
    "\n",
    "print(type(X))\n",
    "print(type(y))\n",
    "\n",
    "print(X.shape)\n",
    "print(y.shape)\n",
    "\n",
    "# 2 initialisatin du model (vide de donnees)\n",
    "from sklearn.linear_model import LinearRegression\n",
    "model = LinearRegression()\n",
    "# help(model.fit)\n",
    "\n",
    "\n",
    "# 3 decoupage du jeu en 2 jeux : jeu d'entrainement, jeu de test\n",
    "from sklearn.model_selection import train_test_split\n",
    "X_train, X_test, y_train, y_test = train_test_split(X, y, shuffle=True, train_size=0.3)\n",
    "\n",
    "# 4 entrainement du modele sur les donnees d entrainenment :\n",
    "model.fit(X_train, y_train)\n",
    "\n",
    "# 5 appliquer le modele entrainé sur les donnees de test pour l evaluer\n",
    "y_pred = model.predict(X_test)\n",
    "\n",
    "(y_pred == y_test).value_counts()\n",
    "\n",
    "plt.scatter(y_test, y_pred)\n",
    "plt.show()"
   ]
  },
  {
   "cell_type": "code",
   "execution_count": 187,
   "id": "17c2e67d",
   "metadata": {},
   "outputs": [
    {
     "data": {
      "text/plain": [
       "<matplotlib.collections.PathCollection at 0x1bb90a72580>"
      ]
     },
     "execution_count": 187,
     "metadata": {},
     "output_type": "execute_result"
    },
    {
     "data": {
      "image/png": "[encoded data removed]",
      "text/plain": [
       "<Figure size 432x288 with 1 Axes>"
      ]
     },
     "metadata": {
      "needs_background": "light"
     },
     "output_type": "display_data"
    }
   ],
   "source": [
    "import matplotlib.pyplot as plt\n",
    "\n",
    "plt.scatter(y_test, y_pred)"
   ]
  },
  {
   "cell_type": "code",
   "execution_count": 34,
   "id": "f2fc0dde",
   "metadata": {},
   "outputs": [
    {
     "name": "stdout",
     "output_type": "stream",
     "text": [
      "['a', 'b', 'c', 'd', 'e']\n",
      "['a', 'b', 'c', 'd', 'e']\n",
      "True\n"
     ]
    }
   ],
   "source": [
    "alphabet = ['a', 'b', 'c', 'd', 'e', 'f', 'g', 'h', 'i', 'j', \n",
    "            'k', 'l', 'm', 'n', 'o', 'p', 'q', 'r', 's', 't', \n",
    "            'u', 'v', 'w', 'x', 'y', 'z']\n",
    "\n",
    "list_exemple_1 = []\n",
    "for i in range(5): # pour chaque i de 0 (inclu) = 5 (exclu)\n",
    "    # on ajoute a list_exemple_1 la i eme valeur dans l alphabet\n",
    "    list_exemple_1.append(alphabet[i]) \n",
    "    \n",
    "print(list_exemple_1)\n",
    "\n",
    "print([alphabet[i] for i in range(5)])\n",
    "\n",
    "print(list_exemple_1 == [alphabet[i] for i in range(5)])"
   ]
  },
  {
   "cell_type": "code",
   "execution_count": 36,
   "id": "6797bf4d",
   "metadata": {},
   "outputs": [],
   "source": [
    "dico={\"etm\":\"pet\", \"truc\":1}"
   ]
  },
  {
   "cell_type": "code",
   "execution_count": 37,
   "id": "4ed379c9",
   "metadata": {},
   "outputs": [
    {
     "data": {
      "text/plain": [
       "True"
      ]
     },
     "execution_count": 37,
     "metadata": {},
     "output_type": "execute_result"
    }
   ],
   "source": [
    "dico[\"etm\"]==\"pet\""
   ]
  },
  {
   "cell_type": "code",
   "execution_count": 40,
   "id": "63db7410",
   "metadata": {},
   "outputs": [
    {
     "data": {
      "text/plain": [
       "False"
      ]
     },
     "execution_count": 40,
     "metadata": {},
     "output_type": "execute_result"
    }
   ],
   "source": [
    "type(0)==\"int\""
   ]
  },
  {
   "cell_type": "code",
   "execution_count": 3,
   "id": "c8f15d55",
   "metadata": {},
   "outputs": [
    {
     "data": {
      "text/plain": [
       "'1,2,3'"
      ]
     },
     "execution_count": 3,
     "metadata": {},
     "output_type": "execute_result"
    }
   ],
   "source": [
    "\",\".join(map(str,[1,2,3])).replace(\" \", \"\")"
   ]
  },
  {
   "cell_type": "code",
   "execution_count": 5,
   "id": "0c5eb122",
   "metadata": {},
   "outputs": [
    {
     "data": {
      "text/plain": [
       "str"
      ]
     },
     "execution_count": 5,
     "metadata": {},
     "output_type": "execute_result"
    }
   ],
   "source": [
    "type(u'a')"
   ]
  },
  {
   "cell_type": "code",
   "execution_count": 9,
   "id": "6245373d",
   "metadata": {},
   "outputs": [
    {
     "name": "stdout",
     "output_type": "stream",
     "text": [
      "(12,)\n"
     ]
    }
   ],
   "source": [
    "import numpy\n",
    "a=numpy.array([[3,2],[3,2],[3,2],\n",
    "              [3,2],[3,2],[3,2]])\n",
    "\n",
    "b=a.reshape(2,6)\n",
    "c=a.reshape(2*6,)"
   ]
  },
  {
   "cell_type": "code",
   "execution_count": 14,
   "id": "5199ca5d",
   "metadata": {},
   "outputs": [
    {
     "name": "stdout",
     "output_type": "stream",
     "text": [
      "(3, 6, 2) (2, 6, 3)\n"
     ]
    }
   ],
   "source": [
    "d=numpy.array([[[3,2],[3,2],[3,2],\n",
    "              [3,2],[3,2],[3,2]],\n",
    "              [[3,2],[3,2],[3,2],\n",
    "              [3,2],[3,2],[3,2]],\n",
    "              [[3,2],[3,2],[3,2],\n",
    "              [3,2],[3,2],[3,2]]])\n",
    "\n",
    "e=d.transpose()\n",
    "print(d.shape, e.shape)"
   ]
  }
 ],
 "metadata": {
  "kernelspec": {
   "display_name": "Python 3 (ipykernel)",
   "language": "python",
   "name": "python3"
  },
  "language_info": {
   "codemirror_mode": {
    "name": "ipython",
    "version": 3
   },
   "file_extension": ".py",
   "mimetype": "text/x-python",
   "name": "python",
   "nbconvert_exporter": "python",
   "pygments_lexer": "ipython3",
   "version": "3.9.7"
  }
 },
 "nbformat": 4,
 "nbformat_minor": 5
}
